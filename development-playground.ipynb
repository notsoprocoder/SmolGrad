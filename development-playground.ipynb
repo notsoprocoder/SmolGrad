{
 "cells": [
  {
   "cell_type": "code",
   "execution_count": 10,
   "metadata": {},
   "outputs": [],
   "source": [
    "import random\n",
    "import math\n",
    "\n",
    "from smol_grad.tensors import Element, Vector, Matrix\n",
    "from smol_grad.io import MLDataObject\n",
    "from smol_grad.functions import relu, sigmoid, softmax, cross_entropy_loss\n",
    "\n",
    "data = MLDataObject(\"mnist.csv\")"
   ]
  }
 ],
 "metadata": {
  "kernelspec": {
   "display_name": "venv",
   "language": "python",
   "name": "python3"
  },
  "language_info": {
   "codemirror_mode": {
    "name": "ipython",
    "version": 3
   },
   "file_extension": ".py",
   "mimetype": "text/x-python",
   "name": "python",
   "nbconvert_exporter": "python",
   "pygments_lexer": "ipython3",
   "version": "3.11.6"
  }
 },
 "nbformat": 4,
 "nbformat_minor": 2
}
