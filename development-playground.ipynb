{
 "cells": [
  {
   "cell_type": "code",
   "execution_count": 1,
   "metadata": {},
   "outputs": [],
   "source": [
    "import random\n",
    "import math\n",
    "\n",
    "from smol_grad.tensors import Element, Vector, Matrix\n",
    "from smol_grad.io import MLDataObject\n",
    "from smol_grad.functions import relu, relu_derivative, sigmoid, sigmoid_derivative,  softmax, cross_entropy_loss\n",
    "from smol_grad import nn\n",
    "\n",
    "data = MLDataObject(\"mnist.csv\")"
   ]
  },
  {
   "cell_type": "code",
   "execution_count": null,
   "metadata": {},
   "outputs": [],
   "source": [
    "layers = [\n",
    "    nn.Layer(784, 64, sigmoid, sigmoid_derivative),\n",
    "    nn.Layer(64, 64, relu, relu_derivative),\n",
    "]"
   ]
  }
 ],
 "metadata": {
  "kernelspec": {
   "display_name": "venv",
   "language": "python",
   "name": "python3"
  },
  "language_info": {
   "codemirror_mode": {
    "name": "ipython",
    "version": 3
   },
   "file_extension": ".py",
   "mimetype": "text/x-python",
   "name": "python",
   "nbconvert_exporter": "python",
   "pygments_lexer": "ipython3",
   "version": "3.11.6"
  }
 },
 "nbformat": 4,
 "nbformat_minor": 2
}
